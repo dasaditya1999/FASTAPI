{
 "cells": [
  {
   "cell_type": "code",
   "execution_count": 5,
   "metadata": {},
   "outputs": [],
   "source": [
    "import json\n",
    "with open('patients.json', 'r') as file:\n",
    "    data = json.load(file)"
   ]
  },
  {
   "cell_type": "code",
   "execution_count": 6,
   "metadata": {},
   "outputs": [
    {
     "data": {
      "text/plain": [
       "dict"
      ]
     },
     "execution_count": 6,
     "metadata": {},
     "output_type": "execute_result"
    }
   ],
   "source": [
    "type(data)"
   ]
  },
  {
   "cell_type": "code",
   "execution_count": 9,
   "metadata": {},
   "outputs": [],
   "source": [
    "input_col = str(input())"
   ]
  },
  {
   "cell_type": "code",
   "execution_count": 10,
   "metadata": {},
   "outputs": [
    {
     "data": {
      "text/plain": [
       "'bmi'"
      ]
     },
     "execution_count": 10,
     "metadata": {},
     "output_type": "execute_result"
    }
   ],
   "source": [
    "input_col"
   ]
  },
  {
   "cell_type": "code",
   "execution_count": 42,
   "metadata": {},
   "outputs": [],
   "source": [
    "# data"
   ]
  },
  {
   "cell_type": "code",
   "execution_count": null,
   "metadata": {},
   "outputs": [],
   "source": []
  },
  {
   "cell_type": "code",
   "execution_count": 51,
   "metadata": {},
   "outputs": [
    {
     "name": "stdout",
     "output_type": "stream",
     "text": [
      "{'P002': {'name': 'Mehta', 'city': 'Mumbai', 'age': 35, 'gender': 'male', 'height': 1.75, 'weight': 85, 'bmi': 27.76, 'verdict': 'Overweight'}, 'P004': {'name': 'Kumar', 'city': 'Kochi', 'age': 38, 'gender': 'female', 'height': 1.5, 'weight': 72, 'bmi': 27.76, 'verdict': 'Diabetes'}, 'P001': {'name': 'Ananya Sharma', 'city': 'Guwahati', 'age': 28, 'gender': 'female', 'height': 1.65, 'weight': 90.0, 'bmi': 33.06, 'verdict': 'Obese'}, 'P003': {'name': 'Agarwal', 'city': 'Delhi', 'age': 35, 'gender': 'male', 'height': 1.65, 'weight': 103, 'bmi': 34, 'verdict': 'Overweight'}}\n"
     ]
    }
   ],
   "source": [
    "sorted_data = dict(sorted(data.items(), reverse=False, key=lambda item: item[1]['bmi']))\n",
    "print(sorted_data)"
   ]
  },
  {
   "cell_type": "code",
   "execution_count": 52,
   "metadata": {},
   "outputs": [
    {
     "name": "stdout",
     "output_type": "stream",
     "text": [
      "27.76\n",
      "27.76\n",
      "33.06\n",
      "34\n"
     ]
    }
   ],
   "source": [
    "for key in sorted_data:\n",
    "    print(sorted_data[key]['bmi'])"
   ]
  },
  {
   "cell_type": "code",
   "execution_count": 21,
   "metadata": {},
   "outputs": [],
   "source": [
    "import pandas as pd\n",
    "    "
   ]
  },
  {
   "cell_type": "code",
   "execution_count": 22,
   "metadata": {},
   "outputs": [],
   "source": [
    "df = pd.DataFrame(data)"
   ]
  },
  {
   "cell_type": "code",
   "execution_count": 23,
   "metadata": {},
   "outputs": [
    {
     "data": {
      "text/html": [
       "<div>\n",
       "<style scoped>\n",
       "    .dataframe tbody tr th:only-of-type {\n",
       "        vertical-align: middle;\n",
       "    }\n",
       "\n",
       "    .dataframe tbody tr th {\n",
       "        vertical-align: top;\n",
       "    }\n",
       "\n",
       "    .dataframe thead th {\n",
       "        text-align: right;\n",
       "    }\n",
       "</style>\n",
       "<table border=\"1\" class=\"dataframe\">\n",
       "  <thead>\n",
       "    <tr style=\"text-align: right;\">\n",
       "      <th></th>\n",
       "      <th>P001</th>\n",
       "      <th>P002</th>\n",
       "      <th>P003</th>\n",
       "      <th>P004</th>\n",
       "    </tr>\n",
       "  </thead>\n",
       "  <tbody>\n",
       "    <tr>\n",
       "      <th>name</th>\n",
       "      <td>Ananya Sharma</td>\n",
       "      <td>Mehta</td>\n",
       "      <td>Agarwal</td>\n",
       "      <td>Kumar</td>\n",
       "    </tr>\n",
       "    <tr>\n",
       "      <th>city</th>\n",
       "      <td>Guwahati</td>\n",
       "      <td>Mumbai</td>\n",
       "      <td>Delhi</td>\n",
       "      <td>Kochi</td>\n",
       "    </tr>\n",
       "    <tr>\n",
       "      <th>age</th>\n",
       "      <td>28</td>\n",
       "      <td>35</td>\n",
       "      <td>35</td>\n",
       "      <td>38</td>\n",
       "    </tr>\n",
       "    <tr>\n",
       "      <th>gender</th>\n",
       "      <td>female</td>\n",
       "      <td>male</td>\n",
       "      <td>male</td>\n",
       "      <td>female</td>\n",
       "    </tr>\n",
       "    <tr>\n",
       "      <th>height</th>\n",
       "      <td>1.65</td>\n",
       "      <td>1.75</td>\n",
       "      <td>1.65</td>\n",
       "      <td>1.5</td>\n",
       "    </tr>\n",
       "    <tr>\n",
       "      <th>weight</th>\n",
       "      <td>90.0</td>\n",
       "      <td>85</td>\n",
       "      <td>103</td>\n",
       "      <td>72</td>\n",
       "    </tr>\n",
       "    <tr>\n",
       "      <th>bmi</th>\n",
       "      <td>33.06</td>\n",
       "      <td>27.76</td>\n",
       "      <td>34</td>\n",
       "      <td>27.76</td>\n",
       "    </tr>\n",
       "    <tr>\n",
       "      <th>verdict</th>\n",
       "      <td>Obese</td>\n",
       "      <td>Overweight</td>\n",
       "      <td>Overweight</td>\n",
       "      <td>Diabetes</td>\n",
       "    </tr>\n",
       "  </tbody>\n",
       "</table>\n",
       "</div>"
      ],
      "text/plain": [
       "                  P001        P002        P003      P004\n",
       "name     Ananya Sharma       Mehta     Agarwal     Kumar\n",
       "city          Guwahati      Mumbai       Delhi     Kochi\n",
       "age                 28          35          35        38\n",
       "gender          female        male        male    female\n",
       "height            1.65        1.75        1.65       1.5\n",
       "weight            90.0          85         103        72\n",
       "bmi              33.06       27.76          34     27.76\n",
       "verdict          Obese  Overweight  Overweight  Diabetes"
      ]
     },
     "execution_count": 23,
     "metadata": {},
     "output_type": "execute_result"
    }
   ],
   "source": [
    "df"
   ]
  },
  {
   "cell_type": "code",
   "execution_count": 28,
   "metadata": {},
   "outputs": [
    {
     "data": {
      "text/plain": [
       "array(['name', 'city', 'age', 'gender', 'height', 'weight', 'bmi',\n",
       "       'verdict'], dtype=object)"
      ]
     },
     "execution_count": 28,
     "metadata": {},
     "output_type": "execute_result"
    }
   ],
   "source": [
    "df.index.values"
   ]
  },
  {
   "cell_type": "code",
   "execution_count": null,
   "metadata": {},
   "outputs": [],
   "source": []
  },
  {
   "cell_type": "code",
   "execution_count": null,
   "metadata": {},
   "outputs": [],
   "source": []
  },
  {
   "cell_type": "code",
   "execution_count": null,
   "metadata": {},
   "outputs": [],
   "source": [
    "curl -X POST \"http://127.0.0.1:8000/addPatient\" \\\n",
    "-H \"Content-Type: application/json\" \\\n",
    "-d '{\"name\":\"Arrun\", \"city\":\"lucknow\", \"age\":56, \"gender\":\"male\", \"height\":1.65, \"weight\":78, \"bmi\":37, \"disease\":\"asthma\"}'"
   ]
  },
  {
   "cell_type": "code",
   "execution_count": null,
   "metadata": {},
   "outputs": [],
   "source": []
  },
  {
   "cell_type": "markdown",
   "metadata": {},
   "source": [
    "### Sorting List"
   ]
  },
  {
   "cell_type": "code",
   "execution_count": 19,
   "metadata": {},
   "outputs": [
    {
     "name": "stdout",
     "output_type": "stream",
     "text": [
      "[1, 2, 5, 9, 10, 23, 1999]\n"
     ]
    }
   ],
   "source": [
    "l = [9,10,2,1,1999, 23, 5]\n",
    "\n",
    "for i in range(0, len(l)):\n",
    "    temp = 0\n",
    "    for j in range(i, len(l)):\n",
    "        if l[i] > l[j]:\n",
    "            temp = l[i]\n",
    "            l[i] = l[j]\n",
    "            l[j] = temp\n",
    "print(l)\n"
   ]
  },
  {
   "cell_type": "code",
   "execution_count": null,
   "metadata": {},
   "outputs": [],
   "source": []
  },
  {
   "cell_type": "code",
   "execution_count": 12,
   "metadata": {},
   "outputs": [],
   "source": [
    "with open('patients.json', 'r') as file:\n",
    "    data = json.load(file)\n",
    "    "
   ]
  },
  {
   "cell_type": "code",
   "execution_count": 19,
   "metadata": {},
   "outputs": [
    {
     "name": "stdout",
     "output_type": "stream",
     "text": [
      "Existing Patient\n"
     ]
    }
   ],
   "source": [
    "name = \"Harry\"\n",
    "age = 40\n",
    "city = \"Bhubaneswar\"\n",
    "for key, value in data.items():\n",
    "    if value['city'] == city and value['age']==age and value['name']==name:\n",
    "        print(\"Existing Patient\")\n",
    "        break"
   ]
  },
  {
   "cell_type": "code",
   "execution_count": 13,
   "metadata": {},
   "outputs": [
    {
     "data": {
      "text/plain": [
       "{'P001': {'name': 'Ananya Sharma',\n",
       "  'city': 'Guwahati',\n",
       "  'age': 28,\n",
       "  'gender': 'female',\n",
       "  'height': 1.65,\n",
       "  'weight': 90.0,\n",
       "  'bmi': 33.06,\n",
       "  'disease': 'Obese'},\n",
       " 'P002': {'name': 'Mehta',\n",
       "  'city': 'Mumbai',\n",
       "  'age': 35,\n",
       "  'gender': 'male',\n",
       "  'height': 1.75,\n",
       "  'weight': 85,\n",
       "  'bmi': 30.76,\n",
       "  'disease': 'Overweight'},\n",
       " 'P003': {'name': 'Agarwal',\n",
       "  'city': 'Delhi',\n",
       "  'age': 22,\n",
       "  'gender': 'male',\n",
       "  'height': 1.65,\n",
       "  'weight': 103,\n",
       "  'bmi': 34,\n",
       "  'disease': 'Overweight'},\n",
       " 'P004': {'name': 'Kumar',\n",
       "  'city': 'Kochi',\n",
       "  'age': 45,\n",
       "  'gender': 'female',\n",
       "  'height': 1.5,\n",
       "  'weight': 72,\n",
       "  'bmi': 27.76,\n",
       "  'disease': 'Diabetes'},\n",
       " 'P005': {'name': 'Arrun',\n",
       "  'city': 'lucknow',\n",
       "  'age': 56,\n",
       "  'gender': 'male',\n",
       "  'height': 1.65,\n",
       "  'weight': 78,\n",
       "  'bmi': 37,\n",
       "  'disease': 'Cholera'},\n",
       " 'P006': {'name': 'Anaya',\n",
       "  'city': 'delhi',\n",
       "  'age': 33,\n",
       "  'gender': 'female',\n",
       "  'height': 1.5,\n",
       "  'weight': 90.0,\n",
       "  'bmi': 31.0,\n",
       "  'disease': 'HairLoss'},\n",
       " 'P333': {'name': 'Goswami',\n",
       "  'city': 'Rourkela',\n",
       "  'age': 46,\n",
       "  'gender': 'male',\n",
       "  'height': 1.8,\n",
       "  'weight': 65.0,\n",
       "  'bmi': 26.0,\n",
       "  'disease': 'skin'},\n",
       " 'P204': {'name': 'Goswami',\n",
       "  'city': 'Rourkela',\n",
       "  'age': 46,\n",
       "  'gender': 'male',\n",
       "  'height': 1.8,\n",
       "  'weight': 65.0,\n",
       "  'bmi': 26.0,\n",
       "  'disease': 'skin'},\n",
       " 'P168': {'name': 'Goswami',\n",
       "  'city': 'Rourkela',\n",
       "  'age': 46,\n",
       "  'gender': 'female',\n",
       "  'height': 1.8,\n",
       "  'weight': 65.0,\n",
       "  'bmi': 26.0,\n",
       "  'disease': 'skin'},\n",
       " 'P866': {'name': 'Goswami',\n",
       "  'city': 'Rourkela',\n",
       "  'age': 46,\n",
       "  'gender': 'female',\n",
       "  'height': 1.8,\n",
       "  'weight': 65.0,\n",
       "  'bmi': 26.0,\n",
       "  'disease': 'skin'},\n",
       " 'P634': {'name': 'Ramey',\n",
       "  'city': 'Rourkela',\n",
       "  'age': 46,\n",
       "  'gender': None,\n",
       "  'height': 1.8,\n",
       "  'weight': 65.0,\n",
       "  'bmi': 26.0,\n",
       "  'disease': 'abc'},\n",
       " 'P507': {'name': 'Zakir',\n",
       "  'city': 'Gurgaon',\n",
       "  'age': 27,\n",
       "  'gender': 'male',\n",
       "  'height': 1.69,\n",
       "  'weight': 73.2,\n",
       "  'bmi': 30.0,\n",
       "  'disease': 'bloating'},\n",
       " 'P792': {'name': 'Harry',\n",
       "  'city': 'Bhubaneswar',\n",
       "  'age': 40,\n",
       "  'gender': None,\n",
       "  'height': 1.6,\n",
       "  'weight': 63.0,\n",
       "  'bmi': 30.0,\n",
       "  'disease': 'sinus'}}"
      ]
     },
     "execution_count": 13,
     "metadata": {},
     "output_type": "execute_result"
    }
   ],
   "source": [
    "data"
   ]
  },
  {
   "cell_type": "code",
   "execution_count": 71,
   "metadata": {},
   "outputs": [],
   "source": [
    "payload = {\"name\":\"Arrun\", \"city\":\"lucknow\", \"age\":56, \"gender\":\"male\", \"height\":1.65, \"weight\":78, \"bmi\":37, \"disease\":\"Cholera\"}"
   ]
  },
  {
   "cell_type": "code",
   "execution_count": 72,
   "metadata": {},
   "outputs": [],
   "source": [
    "data['P005'] = payload"
   ]
  },
  {
   "cell_type": "code",
   "execution_count": 73,
   "metadata": {},
   "outputs": [
    {
     "data": {
      "text/plain": [
       "dict_keys(['P001', 'P002', 'P003', 'P004', 'P005'])"
      ]
     },
     "execution_count": 73,
     "metadata": {},
     "output_type": "execute_result"
    }
   ],
   "source": [
    "data.keys()"
   ]
  },
  {
   "cell_type": "code",
   "execution_count": 4,
   "metadata": {},
   "outputs": [],
   "source": [
    "with open('patients.json', 'w') as f:\n",
    "    json.dump(data, f)"
   ]
  },
  {
   "cell_type": "code",
   "execution_count": 10,
   "metadata": {},
   "outputs": [],
   "source": [
    "import json\n",
    "\n",
    "with open('patients.json', 'r') as file:\n",
    "    data = json.load(file)"
   ]
  },
  {
   "cell_type": "code",
   "execution_count": 11,
   "metadata": {},
   "outputs": [
    {
     "data": {
      "text/plain": [
       "dict_keys(['P001', 'P002', 'P003', 'P004', 'P005', 'P006', 'P333', 'P204', 'P168', 'P866', 'P634'])"
      ]
     },
     "execution_count": 11,
     "metadata": {},
     "output_type": "execute_result"
    }
   ],
   "source": [
    "data.keys()"
   ]
  },
  {
   "cell_type": "code",
   "execution_count": 9,
   "metadata": {},
   "outputs": [
    {
     "data": {
      "text/plain": [
       "'P255'"
      ]
     },
     "execution_count": 9,
     "metadata": {},
     "output_type": "execute_result"
    }
   ],
   "source": [
    "import random\n",
    "\n",
    "\"P\"+str(random.randint(100,999))"
   ]
  },
  {
   "cell_type": "code",
   "execution_count": null,
   "metadata": {},
   "outputs": [],
   "source": []
  },
  {
   "cell_type": "code",
   "execution_count": 2,
   "metadata": {},
   "outputs": [],
   "source": [
    "dict_ = {'a':12, 'b':34}\n",
    "del dict_['a']"
   ]
  },
  {
   "cell_type": "code",
   "execution_count": 3,
   "metadata": {},
   "outputs": [
    {
     "data": {
      "text/plain": [
       "{'b': 34}"
      ]
     },
     "execution_count": 3,
     "metadata": {},
     "output_type": "execute_result"
    }
   ],
   "source": [
    "dict_"
   ]
  },
  {
   "cell_type": "code",
   "execution_count": 6,
   "metadata": {},
   "outputs": [],
   "source": [
    "dict_ = {'a':[1,2,3,4,5,6], 'b':[None, None, None, None, None, None]}\n",
    "\n",
    "import pandas as pd\n",
    "\n",
    "df = pd.DataFrame(dict_)"
   ]
  },
  {
   "cell_type": "code",
   "execution_count": 8,
   "metadata": {},
   "outputs": [],
   "source": [
    "def label(value):\n",
    "    if value%2==0:\n",
    "        return 'even'\n",
    "    else:\n",
    "        return 'odd'"
   ]
  },
  {
   "cell_type": "code",
   "execution_count": 10,
   "metadata": {},
   "outputs": [],
   "source": [
    "df['b'] = df['a'].apply(label)"
   ]
  },
  {
   "cell_type": "code",
   "execution_count": 11,
   "metadata": {},
   "outputs": [
    {
     "data": {
      "text/plain": [
       "0     odd\n",
       "1    even\n",
       "2     odd\n",
       "3    even\n",
       "4     odd\n",
       "5    even\n",
       "Name: b, dtype: object"
      ]
     },
     "execution_count": 11,
     "metadata": {},
     "output_type": "execute_result"
    }
   ],
   "source": [
    "df['b']"
   ]
  },
  {
   "cell_type": "code",
   "execution_count": 12,
   "metadata": {},
   "outputs": [
    {
     "data": {
      "text/html": [
       "<div>\n",
       "<style scoped>\n",
       "    .dataframe tbody tr th:only-of-type {\n",
       "        vertical-align: middle;\n",
       "    }\n",
       "\n",
       "    .dataframe tbody tr th {\n",
       "        vertical-align: top;\n",
       "    }\n",
       "\n",
       "    .dataframe thead th {\n",
       "        text-align: right;\n",
       "    }\n",
       "</style>\n",
       "<table border=\"1\" class=\"dataframe\">\n",
       "  <thead>\n",
       "    <tr style=\"text-align: right;\">\n",
       "      <th></th>\n",
       "      <th>a</th>\n",
       "      <th>b</th>\n",
       "    </tr>\n",
       "  </thead>\n",
       "  <tbody>\n",
       "    <tr>\n",
       "      <th>0</th>\n",
       "      <td>1</td>\n",
       "      <td>odd</td>\n",
       "    </tr>\n",
       "    <tr>\n",
       "      <th>1</th>\n",
       "      <td>2</td>\n",
       "      <td>even</td>\n",
       "    </tr>\n",
       "    <tr>\n",
       "      <th>2</th>\n",
       "      <td>3</td>\n",
       "      <td>odd</td>\n",
       "    </tr>\n",
       "    <tr>\n",
       "      <th>3</th>\n",
       "      <td>4</td>\n",
       "      <td>even</td>\n",
       "    </tr>\n",
       "    <tr>\n",
       "      <th>4</th>\n",
       "      <td>5</td>\n",
       "      <td>odd</td>\n",
       "    </tr>\n",
       "    <tr>\n",
       "      <th>5</th>\n",
       "      <td>6</td>\n",
       "      <td>even</td>\n",
       "    </tr>\n",
       "  </tbody>\n",
       "</table>\n",
       "</div>"
      ],
      "text/plain": [
       "   a     b\n",
       "0  1   odd\n",
       "1  2  even\n",
       "2  3   odd\n",
       "3  4  even\n",
       "4  5   odd\n",
       "5  6  even"
      ]
     },
     "execution_count": 12,
     "metadata": {},
     "output_type": "execute_result"
    }
   ],
   "source": [
    "df"
   ]
  },
  {
   "cell_type": "code",
   "execution_count": null,
   "metadata": {},
   "outputs": [],
   "source": []
  }
 ],
 "metadata": {
  "kernelspec": {
   "display_name": "fastapi-env",
   "language": "python",
   "name": "python3"
  },
  "language_info": {
   "codemirror_mode": {
    "name": "ipython",
    "version": 3
   },
   "file_extension": ".py",
   "mimetype": "text/x-python",
   "name": "python",
   "nbconvert_exporter": "python",
   "pygments_lexer": "ipython3",
   "version": "3.11.4"
  }
 },
 "nbformat": 4,
 "nbformat_minor": 2
}
